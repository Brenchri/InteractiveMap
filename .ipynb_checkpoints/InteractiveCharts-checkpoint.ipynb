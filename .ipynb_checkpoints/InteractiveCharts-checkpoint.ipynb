{
 "cells": [
  {
   "cell_type": "code",
   "execution_count": 39,
   "metadata": {},
   "outputs": [],
   "source": [
    "import geopandas as gpd\n",
    "import plotly.graph_objs as go\n",
    "from plotly.offline import download_plotlyjs, init_notebook_mode, plot, iplot\n",
    "import plotly.offline as py"
   ]
  },
  {
   "cell_type": "code",
   "execution_count": 2,
   "metadata": {},
   "outputs": [
    {
     "data": {
      "text/html": [
       "<script type=\"text/javascript\">window.PlotlyConfig = {MathJaxConfig: 'local'};</script><script type=\"text/javascript\">if (window.MathJax) {MathJax.Hub.Config({SVG: {font: \"STIX-Web\"}});}</script><script>requirejs.config({paths: { 'plotly': ['https://cdn.plot.ly/plotly-latest.min']},});if(!window._Plotly) {require(['plotly'],function(plotly) {window._Plotly=plotly;});}</script>"
      ],
      "text/vnd.plotly.v1+html": [
       "<script type=\"text/javascript\">window.PlotlyConfig = {MathJaxConfig: 'local'};</script><script type=\"text/javascript\">if (window.MathJax) {MathJax.Hub.Config({SVG: {font: \"STIX-Web\"}});}</script><script>requirejs.config({paths: { 'plotly': ['https://cdn.plot.ly/plotly-latest.min']},});if(!window._Plotly) {require(['plotly'],function(plotly) {window._Plotly=plotly;});}</script>"
      ]
     },
     "metadata": {},
     "output_type": "display_data"
    }
   ],
   "source": [
    "init_notebook_mode(connected=True)"
   ]
  },
  {
   "cell_type": "code",
   "execution_count": 3,
   "metadata": {},
   "outputs": [],
   "source": [
    "data_source = \"./data/pirkanmaa_rock_aggregate.shp\""
   ]
  },
  {
   "cell_type": "code",
   "execution_count": 4,
   "metadata": {},
   "outputs": [],
   "source": [
    "df_pirkanmaa = gpd.read_file(data_source)"
   ]
  },
  {
   "cell_type": "code",
   "execution_count": 5,
   "metadata": {},
   "outputs": [
    {
     "data": {
      "text/plain": [
       "0                  Akaa\n",
       "88           Hämeenkyrö\n",
       "466           Ikaalinen\n",
       "1158          Juupajoki\n",
       "1494          Kangasala\n",
       "2200             Kihniö\n",
       "2411           Lempäälä\n",
       "2596    Mänttä-Vilppula\n",
       "2909              Nokia\n",
       "3204            Orivesi\n",
       "4000            Parkano\n",
       "4541           Pirkkala\n",
       "4574        Punkalaidun\n",
       "4773            Pälkäne\n",
       "5278            Ruovesi\n",
       "5924          Sastamala\n",
       "7338            Tampere\n",
       "7778             Urjala\n",
       "8125        Valkeakoski\n",
       "8208          Vesilahti\n",
       "8491             Virrat\n",
       "9454           Ylöjärvi\n",
       "Name: nimi, dtype: object"
      ]
     },
     "execution_count": 5,
     "metadata": {},
     "output_type": "execute_result"
    }
   ],
   "source": [
    "df_pirkanmaa[\"nimi\"].drop_duplicates()"
   ]
  },
  {
   "cell_type": "code",
   "execution_count": 7,
   "metadata": {},
   "outputs": [],
   "source": [
    "Akaa = []\n",
    "Hämeenkyrö = []\n",
    "Ikaalinen = []\n",
    "Juupajoki = []\n",
    "Kangasala = []\n",
    "Kihniö = []\n",
    "Lempäälä = []\n",
    "Mänttä_Vilppula = []\n",
    "Nokia = []\n",
    "Orivesi = []\n",
    "Parkano = []\n",
    "Pirkkala = []\n",
    "Punkalaidun = []\n",
    "Pälkäne = []\n",
    "Ruovesi = []\n",
    "Sastamala = []\n",
    "Tampere = []\n",
    "Urjala = []\n",
    "Valkeakoski = []\n",
    "Vesilahti = []\n",
    "Virrat = []\n",
    "Ylöjärvi = []"
   ]
  },
  {
   "cell_type": "code",
   "execution_count": 8,
   "metadata": {},
   "outputs": [
    {
     "ename": "IndexError",
     "evalue": "only integers, slices (`:`), ellipsis (`...`), numpy.newaxis (`None`) and integer or boolean arrays are valid indices",
     "output_type": "error",
     "traceback": [
      "\u001b[0;31m---------------------------------------------------------------------------\u001b[0m",
      "\u001b[0;31mIndexError\u001b[0m                                Traceback (most recent call last)",
      "\u001b[0;32m<ipython-input-8-7fb21009675f>\u001b[0m in \u001b[0;36m<module>\u001b[0;34m\u001b[0m\n\u001b[1;32m      3\u001b[0m \u001b[0;32mfor\u001b[0m \u001b[0mi\u001b[0m \u001b[0;32min\u001b[0m \u001b[0mrange\u001b[0m\u001b[0;34m(\u001b[0m\u001b[0;36m22\u001b[0m\u001b[0;34m)\u001b[0m\u001b[0;34m:\u001b[0m\u001b[0;34m\u001b[0m\u001b[0;34m\u001b[0m\u001b[0m\n\u001b[1;32m      4\u001b[0m     \u001b[0mi\u001b[0m \u001b[0;34m=\u001b[0m \u001b[0mdf_pirkanmaa\u001b[0m\u001b[0;34m.\u001b[0m\u001b[0mgroupby\u001b[0m\u001b[0;34m(\u001b[0m\u001b[0;34m[\u001b[0m\u001b[0;34m\"nimi\"\u001b[0m\u001b[0;34m]\u001b[0m\u001b[0;34m)\u001b[0m\u001b[0;34m\u001b[0m\u001b[0;34m\u001b[0m\u001b[0m\n\u001b[0;32m----> 5\u001b[0;31m     \u001b[0mdf\u001b[0m\u001b[0;34m[\u001b[0m\u001b[0mi\u001b[0m\u001b[0;34m]\u001b[0m \u001b[0;34m=\u001b[0m \u001b[0mi\u001b[0m\u001b[0;34m.\u001b[0m\u001b[0mget_group\u001b[0m\u001b[0;34m(\u001b[0m\u001b[0;34m\"Akaa\"\u001b[0m\u001b[0;34m)\u001b[0m\u001b[0;34m\u001b[0m\u001b[0;34m\u001b[0m\u001b[0m\n\u001b[0m\u001b[1;32m      6\u001b[0m     \u001b[0mprint\u001b[0m\u001b[0;34m(\u001b[0m\u001b[0mhelp\u001b[0m\u001b[0;34m)\u001b[0m\u001b[0;34m\u001b[0m\u001b[0;34m\u001b[0m\u001b[0m\n\u001b[1;32m      7\u001b[0m \u001b[0;34m\u001b[0m\u001b[0m\n",
      "\u001b[0;31mIndexError\u001b[0m: only integers, slices (`:`), ellipsis (`...`), numpy.newaxis (`None`) and integer or boolean arrays are valid indices"
     ]
    }
   ],
   "source": [
    "df = df_pirkanmaa[\"nimi\"].unique()\n",
    "\n",
    "for i in range(22):\n",
    "    i = df_pirkanmaa.groupby([\"nimi\"])\n",
    "    df[i] = i.get_group(\"Akaa\")\n",
    "    print(help)\n",
    "    "
   ]
  },
  {
   "cell_type": "code",
   "execution_count": 11,
   "metadata": {},
   "outputs": [
    {
     "data": {
      "text/plain": [
       "22"
      ]
     },
     "execution_count": 11,
     "metadata": {},
     "output_type": "execute_result"
    }
   ],
   "source": [
    "len(df_pirkanmaa[\"nimi\"].unique())"
   ]
  },
  {
   "cell_type": "code",
   "execution_count": 9,
   "metadata": {},
   "outputs": [],
   "source": [
    "Akaa = df_pirkanmaa.loc[df_pirkanmaa['nimi'] == \"Akaa\"]\n",
    "Hämeenkyrö = df_pirkanmaa.loc[df_pirkanmaa['nimi'] == \"Hämeenkyrö\"]\n",
    "Ikaalinen = df_pirkanmaa.loc[df_pirkanmaa['nimi'] == \"Ikaalinen\"]\n",
    "Juupajoki = df_pirkanmaa.loc[df_pirkanmaa['nimi'] == \"Juupajoki\"]\n",
    "Kangasala = df_pirkanmaa.loc[df_pirkanmaa['nimi'] == \"Kangasala\"]\n",
    "Kihniö = df_pirkanmaa.loc[df_pirkanmaa['nimi'] == \"Kihniö\"]\n",
    "Lempäälä = df_pirkanmaa.loc[df_pirkanmaa['nimi'] == \"Lempäälä\"]\n",
    "Mänttä_Vilppula = df_pirkanmaa.loc[df_pirkanmaa['nimi'] == \"Mänttä-Vilppula\"]\n",
    "Nokia = df_pirkanmaa.loc[df_pirkanmaa['nimi'] == \"Nokia\"]\n",
    "Orivesi = df_pirkanmaa.loc[df_pirkanmaa['nimi'] == \"Orivesi\"]\n",
    "Parkano = df_pirkanmaa.loc[df_pirkanmaa['nimi'] == \"Parkano\"]\n",
    "Pirkkala = df_pirkanmaa.loc[df_pirkanmaa['nimi'] == \"Pirkkala\"]\n",
    "Punkalaidun = df_pirkanmaa.loc[df_pirkanmaa['nimi'] == \"Punkalaidun\"]\n",
    "Pälkäne = df_pirkanmaa.loc[df_pirkanmaa['nimi'] == \"Pälkäne\"]\n",
    "Ruovesi = df_pirkanmaa.loc[df_pirkanmaa['nimi'] == \"Ruovesi\"]\n",
    "Sastamala = df_pirkanmaa.loc[df_pirkanmaa['nimi'] == \"Sastamala\"]\n",
    "Tampere = df_pirkanmaa.loc[df_pirkanmaa['nimi'] == \"Tampere\"]\n",
    "Urjala = df_pirkanmaa.loc[df_pirkanmaa['nimi'] == \"Urjala\"]\n",
    "Valkeakoski = df_pirkanmaa.loc[df_pirkanmaa['nimi'] == \"Valkeakoski\"]\n",
    "Vesilahti = df_pirkanmaa.loc[df_pirkanmaa['nimi'] == \"Vesilahti\"]\n",
    "Virrat = df_pirkanmaa.loc[df_pirkanmaa['nimi'] == \"Virrat\"]\n",
    "Ylöjärvi = df_pirkanmaa.loc[df_pirkanmaa['nimi'] == \"Ylöjärvi\"]"
   ]
  },
  {
   "cell_type": "code",
   "execution_count": 10,
   "metadata": {},
   "outputs": [],
   "source": [
    "a = Akaa[\"rock\"].sum()\n",
    "b = Hämeenkyrö[\"rock\"].sum()\n",
    "c = Ikaalinen[\"rock\"].sum() \n",
    "d = Juupajoki[\"rock\"].sum() \n",
    "e = Kangasala[\"rock\"].sum()\n",
    "f = Kihniö[\"rock\"].sum() \n",
    "g = Lempäälä[\"rock\"].sum() \n",
    "h = Mänttä_Vilppula[\"rock\"].sum() \n",
    "i = Nokia[\"rock\"].sum()\n",
    "j = Orivesi[\"rock\"].sum() \n",
    "k = Parkano[\"rock\"].sum() \n",
    "l = Pirkkala[\"rock\"].sum()\n",
    "m = Punkalaidun[\"rock\"].sum() \n",
    "n = Pälkäne[\"rock\"].sum() \n",
    "o = Ruovesi[\"rock\"].sum() \n",
    "p = Sastamala[\"rock\"].sum()\n",
    "q = Tampere[\"rock\"].sum()\n",
    "r = Urjala[\"rock\"].sum()\n",
    "s = Valkeakoski[\"rock\"].sum()\n",
    "t = Vesilahti[\"rock\"].sum()\n",
    "u = Virrat[\"rock\"].sum()\n",
    "v = Ylöjärvi[\"rock\"].sum()"
   ]
  },
  {
   "cell_type": "code",
   "execution_count": 11,
   "metadata": {},
   "outputs": [],
   "source": [
    "sums = [a,b,c,d,e,f,g,h,i,j,k,l,m,n,o,p,q,r,s,t,u,v]"
   ]
  },
  {
   "cell_type": "code",
   "execution_count": 35,
   "metadata": {},
   "outputs": [],
   "source": [
    "import numpy as np"
   ]
  },
  {
   "cell_type": "code",
   "execution_count": 37,
   "metadata": {},
   "outputs": [
    {
     "data": {
      "application/vnd.plotly.v1+json": {
       "config": {
        "linkText": "Export to plot.ly",
        "plotlyServerURL": "https://plot.ly",
        "showLink": false
       },
       "data": [
        {
         "name": "Amount of Rock",
         "type": "bar",
         "uid": "dd14b382-7825-4985-a9b7-ff78342a90aa",
         "x": [
          "Akaa",
          "Hämeenkyrö",
          "Ikaalinen",
          "Juupajoki",
          "Kangasala",
          "Kihniö",
          "Lempäälä",
          "Mänttä-Vilppula",
          "Nokia",
          "Orivesi",
          "Parkano",
          "Pirkkala",
          "Punkalaidun",
          "Pälkäne",
          "Ruovesi",
          "Sastamala",
          "Tampere",
          "Urjala",
          "Valkeakoski",
          "Vesilahti",
          "Virrat",
          "Ylöjärvi"
         ],
         "y": [
          69227693,
          701308598,
          1049382886,
          1618364146,
          2317413988,
          259874126,
          305990372,
          1565499501,
          1014714643,
          5310210444,
          492964426,
          74342556,
          192040298,
          814917721,
          5524973127,
          3234501392,
          1974972541,
          337353252,
          65689947,
          262423348,
          4102119877,
          2622641440
         ]
        }
       ],
       "layout": {}
      },
      "text/html": [
       "<div id=\"1edaeb3b-bfd8-40c6-a15b-05b3075ae237\" style=\"height: 525px; width: 100%;\" class=\"plotly-graph-div\"></div><script type=\"text/javascript\">require([\"plotly\"], function(Plotly) { window.PLOTLYENV=window.PLOTLYENV || {};window.PLOTLYENV.BASE_URL=\"https://plot.ly\";\n",
       "if (document.getElementById(\"1edaeb3b-bfd8-40c6-a15b-05b3075ae237\")) {\n",
       "    Plotly.newPlot(\"1edaeb3b-bfd8-40c6-a15b-05b3075ae237\", [{\"name\": \"Amount of Rock\", \"x\": [\"Akaa\", \"H\\u00e4meenkyr\\u00f6\", \"Ikaalinen\", \"Juupajoki\", \"Kangasala\", \"Kihni\\u00f6\", \"Lemp\\u00e4\\u00e4l\\u00e4\", \"M\\u00e4ntt\\u00e4-Vilppula\", \"Nokia\", \"Orivesi\", \"Parkano\", \"Pirkkala\", \"Punkalaidun\", \"P\\u00e4lk\\u00e4ne\", \"Ruovesi\", \"Sastamala\", \"Tampere\", \"Urjala\", \"Valkeakoski\", \"Vesilahti\", \"Virrat\", \"Yl\\u00f6j\\u00e4rvi\"], \"y\": [69227693.0, 701308598.0, 1049382886.0, 1618364146.0, 2317413988.0, 259874126.0, 305990372.0, 1565499501.0, 1014714643.0, 5310210444.0, 492964426.0, 74342556.0, 192040298.0, 814917721.0, 5524973127.0, 3234501392.0, 1974972541.0, 337353252.0, 65689947.0, 262423348.0, 4102119877.0, 2622641440.0], \"type\": \"bar\", \"uid\": \"1bdfc809-2c47-471e-b04f-d7aa7cf635e5\"}], {}, {\"showLink\": false, \"linkText\": \"Export to plot.ly\", \"plotlyServerURL\": \"https://plot.ly\"}); \n",
       "}\n",
       "});</script><script type=\"text/javascript\">window.addEventListener(\"resize\", function(){if (document.getElementById(\"1edaeb3b-bfd8-40c6-a15b-05b3075ae237\")) {window._Plotly.Plots.resize(document.getElementById(\"1edaeb3b-bfd8-40c6-a15b-05b3075ae237\"));};})</script>"
      ],
      "text/vnd.plotly.v1+html": [
       "<div id=\"1edaeb3b-bfd8-40c6-a15b-05b3075ae237\" style=\"height: 525px; width: 100%;\" class=\"plotly-graph-div\"></div><script type=\"text/javascript\">require([\"plotly\"], function(Plotly) { window.PLOTLYENV=window.PLOTLYENV || {};window.PLOTLYENV.BASE_URL=\"https://plot.ly\";\n",
       "if (document.getElementById(\"1edaeb3b-bfd8-40c6-a15b-05b3075ae237\")) {\n",
       "    Plotly.newPlot(\"1edaeb3b-bfd8-40c6-a15b-05b3075ae237\", [{\"name\": \"Amount of Rock\", \"x\": [\"Akaa\", \"H\\u00e4meenkyr\\u00f6\", \"Ikaalinen\", \"Juupajoki\", \"Kangasala\", \"Kihni\\u00f6\", \"Lemp\\u00e4\\u00e4l\\u00e4\", \"M\\u00e4ntt\\u00e4-Vilppula\", \"Nokia\", \"Orivesi\", \"Parkano\", \"Pirkkala\", \"Punkalaidun\", \"P\\u00e4lk\\u00e4ne\", \"Ruovesi\", \"Sastamala\", \"Tampere\", \"Urjala\", \"Valkeakoski\", \"Vesilahti\", \"Virrat\", \"Yl\\u00f6j\\u00e4rvi\"], \"y\": [69227693.0, 701308598.0, 1049382886.0, 1618364146.0, 2317413988.0, 259874126.0, 305990372.0, 1565499501.0, 1014714643.0, 5310210444.0, 492964426.0, 74342556.0, 192040298.0, 814917721.0, 5524973127.0, 3234501392.0, 1974972541.0, 337353252.0, 65689947.0, 262423348.0, 4102119877.0, 2622641440.0], \"type\": \"bar\", \"uid\": \"1bdfc809-2c47-471e-b04f-d7aa7cf635e5\"}], {}, {\"showLink\": false, \"linkText\": \"Export to plot.ly\", \"plotlyServerURL\": \"https://plot.ly\"}); \n",
       "}\n",
       "});</script><script type=\"text/javascript\">window.addEventListener(\"resize\", function(){if (document.getElementById(\"1edaeb3b-bfd8-40c6-a15b-05b3075ae237\")) {window._Plotly.Plots.resize(document.getElementById(\"1edaeb3b-bfd8-40c6-a15b-05b3075ae237\"));};})</script>"
      ]
     },
     "metadata": {},
     "output_type": "display_data"
    }
   ],
   "source": [
    "obj1 = go.Bar(x=df,\n",
    "              y=sums,\n",
    "             name=\"Amount of Rock\")\n",
    "\n",
    "\n",
    "objs = [obj1]\n",
    "iplot(objs)"
   ]
  },
  {
   "cell_type": "code",
   "execution_count": 42,
   "metadata": {},
   "outputs": [
    {
     "data": {
      "application/vnd.plotly.v1+json": {
       "config": {
        "linkText": "Export to plot.ly",
        "plotlyServerURL": "https://plot.ly",
        "showLink": false
       },
       "data": [
        {
         "type": "bar",
         "uid": "f6650ca4-62bf-4821-9634-206045b45634",
         "x": [
          "Akaa",
          "Hämeenkyrö",
          "Ikaalinen",
          "Juupajoki",
          "Kangasala",
          "Kihniö",
          "Lempäälä",
          "Mänttä-Vilppula",
          "Nokia",
          "Orivesi",
          "Parkano",
          "Pirkkala",
          "Punkalaidun",
          "Pälkäne",
          "Ruovesi",
          "Sastamala",
          "Tampere",
          "Urjala",
          "Valkeakoski",
          "Vesilahti",
          "Virrat",
          "Ylöjärvi"
         ],
         "y": [
          69227693,
          701308598,
          1049382886,
          1618364146,
          2317413988,
          259874126,
          305990372,
          1565499501,
          1014714643,
          5310210444,
          492964426,
          74342556,
          192040298,
          814917721,
          5524973127,
          3234501392,
          1974972541,
          337353252,
          65689947,
          262423348,
          4102119877,
          2622641440
         ]
        }
       ],
       "layout": {}
      },
      "text/html": [
       "<div id=\"99f840f5-70b0-4368-88af-ec60816945c6\" style=\"height: 525px; width: 100%;\" class=\"plotly-graph-div\"></div><script type=\"text/javascript\">require([\"plotly\"], function(Plotly) { window.PLOTLYENV=window.PLOTLYENV || {};window.PLOTLYENV.BASE_URL=\"https://plot.ly\";\n",
       "if (document.getElementById(\"99f840f5-70b0-4368-88af-ec60816945c6\")) {\n",
       "    Plotly.newPlot(\"99f840f5-70b0-4368-88af-ec60816945c6\", [{\"x\": [\"Akaa\", \"H\\u00e4meenkyr\\u00f6\", \"Ikaalinen\", \"Juupajoki\", \"Kangasala\", \"Kihni\\u00f6\", \"Lemp\\u00e4\\u00e4l\\u00e4\", \"M\\u00e4ntt\\u00e4-Vilppula\", \"Nokia\", \"Orivesi\", \"Parkano\", \"Pirkkala\", \"Punkalaidun\", \"P\\u00e4lk\\u00e4ne\", \"Ruovesi\", \"Sastamala\", \"Tampere\", \"Urjala\", \"Valkeakoski\", \"Vesilahti\", \"Virrat\", \"Yl\\u00f6j\\u00e4rvi\"], \"y\": [69227693.0, 701308598.0, 1049382886.0, 1618364146.0, 2317413988.0, 259874126.0, 305990372.0, 1565499501.0, 1014714643.0, 5310210444.0, 492964426.0, 74342556.0, 192040298.0, 814917721.0, 5524973127.0, 3234501392.0, 1974972541.0, 337353252.0, 65689947.0, 262423348.0, 4102119877.0, 2622641440.0], \"type\": \"bar\", \"uid\": \"e0ccff46-3043-4246-b573-a8086e2c74e8\"}], {}, {\"showLink\": false, \"linkText\": \"Export to plot.ly\", \"plotlyServerURL\": \"https://plot.ly\"}); \n",
       "}\n",
       "});</script><script type=\"text/javascript\">window.addEventListener(\"resize\", function(){if (document.getElementById(\"99f840f5-70b0-4368-88af-ec60816945c6\")) {window._Plotly.Plots.resize(document.getElementById(\"99f840f5-70b0-4368-88af-ec60816945c6\"));};})</script>"
      ],
      "text/vnd.plotly.v1+html": [
       "<div id=\"99f840f5-70b0-4368-88af-ec60816945c6\" style=\"height: 525px; width: 100%;\" class=\"plotly-graph-div\"></div><script type=\"text/javascript\">require([\"plotly\"], function(Plotly) { window.PLOTLYENV=window.PLOTLYENV || {};window.PLOTLYENV.BASE_URL=\"https://plot.ly\";\n",
       "if (document.getElementById(\"99f840f5-70b0-4368-88af-ec60816945c6\")) {\n",
       "    Plotly.newPlot(\"99f840f5-70b0-4368-88af-ec60816945c6\", [{\"x\": [\"Akaa\", \"H\\u00e4meenkyr\\u00f6\", \"Ikaalinen\", \"Juupajoki\", \"Kangasala\", \"Kihni\\u00f6\", \"Lemp\\u00e4\\u00e4l\\u00e4\", \"M\\u00e4ntt\\u00e4-Vilppula\", \"Nokia\", \"Orivesi\", \"Parkano\", \"Pirkkala\", \"Punkalaidun\", \"P\\u00e4lk\\u00e4ne\", \"Ruovesi\", \"Sastamala\", \"Tampere\", \"Urjala\", \"Valkeakoski\", \"Vesilahti\", \"Virrat\", \"Yl\\u00f6j\\u00e4rvi\"], \"y\": [69227693.0, 701308598.0, 1049382886.0, 1618364146.0, 2317413988.0, 259874126.0, 305990372.0, 1565499501.0, 1014714643.0, 5310210444.0, 492964426.0, 74342556.0, 192040298.0, 814917721.0, 5524973127.0, 3234501392.0, 1974972541.0, 337353252.0, 65689947.0, 262423348.0, 4102119877.0, 2622641440.0], \"type\": \"bar\", \"uid\": \"e0ccff46-3043-4246-b573-a8086e2c74e8\"}], {}, {\"showLink\": false, \"linkText\": \"Export to plot.ly\", \"plotlyServerURL\": \"https://plot.ly\"}); \n",
       "}\n",
       "});</script><script type=\"text/javascript\">window.addEventListener(\"resize\", function(){if (document.getElementById(\"99f840f5-70b0-4368-88af-ec60816945c6\")) {window._Plotly.Plots.resize(document.getElementById(\"99f840f5-70b0-4368-88af-ec60816945c6\"));};})</script>"
      ]
     },
     "metadata": {},
     "output_type": "display_data"
    }
   ],
   "source": [
    "import plotly.graph_objs as go\n",
    "\n",
    "data = [go.Bar(\n",
    "            x=df,\n",
    "            y=sums\n",
    "    )]\n",
    "\n",
    "py.iplot(data, filename='basic-bar')\n",
    "\n",
    "\n"
   ]
  },
  {
   "cell_type": "code",
   "execution_count": null,
   "metadata": {},
   "outputs": [],
   "source": []
  },
  {
   "cell_type": "code",
   "execution_count": null,
   "metadata": {},
   "outputs": [],
   "source": []
  },
  {
   "cell_type": "code",
   "execution_count": null,
   "metadata": {},
   "outputs": [],
   "source": []
  }
 ],
 "metadata": {
  "kernelspec": {
   "display_name": "Python 3",
   "language": "python",
   "name": "python3"
  },
  "language_info": {
   "codemirror_mode": {
    "name": "ipython",
    "version": 3
   },
   "file_extension": ".py",
   "mimetype": "text/x-python",
   "name": "python",
   "nbconvert_exporter": "python",
   "pygments_lexer": "ipython3",
   "version": "3.7.3"
  }
 },
 "nbformat": 4,
 "nbformat_minor": 2
}
